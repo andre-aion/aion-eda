{
 "cells": [
  {
   "cell_type": "code",
   "execution_count": 1,
   "metadata": {},
   "outputs": [],
   "source": [
    "import pandas as pd\n",
    "import matplotlib.pyplot as plt\n",
    "import seaborn as sns\n",
    "import numpy as np\n"
   ]
  },
  {
   "cell_type": "markdown",
   "metadata": {},
   "source": [
    "Lets do some data cleaning, rename some headers etc"
   ]
  },
  {
   "cell_type": "code",
   "execution_count": 2,
   "metadata": {},
   "outputs": [],
   "source": [
    "# change the headers of the columns\n",
    "df = pd.read_csv(\"assessment_9.9.18.csv\")\n",
    "old_columns =df.columns.values.tolist()\n",
    "new_columns = [\"timestamp\",\"mining_address\",\"pool_member\",\"pool_address\",\"rig_wattage\",\"onboard_ram\",\"GPU_count\",\n",
    "              \"GPU_memory\",\"GPU_cores\",\"onboard_cores\",\"GPU_model\",\"feedback\"]\n",
    "\n",
    "for index, column in enumerate(old_columns):\n",
    "    df.rename(columns={old_columns[index]: new_columns[index]}, inplace=True)"
   ]
  },
  {
   "cell_type": "markdown",
   "metadata": {},
   "source": [
    "Let us have a  look at the values in each column"
   ]
  },
  {
   "cell_type": "code",
   "execution_count": 3,
   "metadata": {},
   "outputs": [
    {
     "name": "stdout",
     "output_type": "stream",
     "text": [
      "column: timestamp, values: 2018/09/04 7:01:30 PM AST 2018/09/04 7:09:38 PM AST 2018/09/04 7:29:46 PM AST 2018/09/04 7:50:15 PM AST 2018/09/04 10:05:21 PM AST 2018/09/05 3:00:43 AM AST 2018/09/05 3:39:59 AM AST 2018/09/05 7:58:00 AM AST 2018/09/05 10:59:08 AM AST 2018/09/05 1:46:30 PM AST 2018/09/05 1:51:08 PM AST 2018/09/05 2:42:26 PM AST 2018/09/05 3:32:14 PM AST 2018/09/09 12:35:34 PM AST\n",
      "\n",
      "column: mining_address, values: 0xa0102f5fb2dd4ea7220028771b0ae2d50003ddac6225f93cff277467168b3c18 0xa0a5ecf0ead1fd01092bbac788368c72ee4dde410e82c6e61a89b0b5c7b2791b 0xa02853e3456a05788cbc30a548208a54627a772daeab7f632f95805ea5936c5b 0xa01a8d2d7551c55b30261ea189c2b4c95efed6987fb9eebbb44b68c64deb868e 0xa07a9ce6b8aadc0a7e7d28d167853b9770a7d2af35bf0e9bb5323caf2b13f9c3 0xa045f5094220cdfe8386ab9293d5c8c824eb20c308dfca5a6729f8c7cd44402e have to look this up 0xa07ebf9371a6c81e23f456c6c99a731815736a20a05a08b4b9cb7640fdaa3989 Not mining! just invested! 0xa0c4513223112c54827c3e3cbfa1d35306d1316542ea9e743dab69edd10946fc 0xa095d7c475371e7956a3af844149d8ad29b4f1c3bd6f70f833141584497d724b 0xa04c6a6b02efd926c8d23cf343f6bdec4de7b585f6f563e992a4434e5dfcf02f 0xa0b35c22da79f5f751a8f81648555c4ef2dcff334eafdb6b0c63aa9c31377cd7\n",
      "\n",
      "column: pool_member, values: Yes No I've mined on several pools and I also solo mine on occasion. The pools I've use are: glorypool.io, hashpowerpool.com, aionmine.org, centrys.io, luxor.tech Running a solo pool\n",
      "\n",
      "column: pool_address, values: aionmine.org Solo miner glorypool.io - 0xa05801fb2de5b76568a9c13f86766ebe3e6c438272e9fc6f5fabfcbea93048bf - aion-us.luxor.tech:3366 stratum.glorypool.io - stratum.glorypool.io mining_solo_baby! - 0xa0da976c4dd9a1978b357ece19f7dc3f2f181513c6e4fb9da8624c8550435bb1 don't know Pool - aionpool.tech AionPool.tech-aionpool.tech No None (solo mining)\n",
      "\n",
      "column: rig_wattage, values: 700 1350 1900 2400 600 1500 1200 1400 0 800 3600 1250\n",
      "\n",
      "column: onboard_ram, values: 4 8 32 16 24\n",
      "\n",
      "column: GPU_count, values: 6 8 12 2 7 1 18 4 11\n",
      "\n",
      "column: GPU_memory, values: 48 11 88 114 20 55 80 72 2 36 46 144 27\n",
      "\n",
      "column: GPU_cores, values: 1070 3584 28672 33025 6144 7 5 122880 640 6 41472 0 21120\n",
      "\n",
      "column: onboard_cores, values: 4400 2 4 8 1 6 12 0\n",
      "\n",
      "column: GPU_model, values: nvidia 1070, CPU G4400 intel SMOS/EWBF0.5 Hashrate 1.2k Rig No 1 - 8 GPUs, 1080; Rig No 2 - 8 GPUs; 1080 Ti, Rig No 3 - 7 GPUs, 1080 Ti, 1 GPU 1080; Rig No 3 - 7 GPUs, 1080 Ti, 1 GPU 1080 Rig No 1 - 8 GPUs, 1080 Ti rig no. 1  6 GPUS gtx1070   rig no. 2 6 gtx1080ti all watercooled Rig No 1 - 2 GPUs,  1x1080 + 1x1080ti Rig No 1 - 7Gpus, 4x1080ti, 1x1060 3Gb, 2x1050ti Rig No 1 - 2 GPUs, 1080 ti 6 rigs with 12x GTX1060 6GB, 1 rig 1070TI and 1 rig 1080TI nan Rig No 1 - 3 1070ti, 3 1050ti Rig No 2 - 5 GTX 1060 6gb, 2 GTX 1070ti Rig No 1- 6 GPUs, 1070-Rig No 2- 6 GPUs, 1070ti-Rig No 2- 6 GPUs, 1080 Palit GForce 1080 X 3, MSI 1060 3GB Rig No 1 - 2 GPUs, GTX 1070; Rig No 2 - 9 GPUs, GTX 1070\n",
      "\n",
      "column: feedback, values: nan Please use full decimal numbers for the mainnet explorer value columns instead of rounding up/down. Just something about this questionaire: On the second question, if you answer \"no\" (as in solo mining), public key field is still mandatory. I want to mine aion in 750ti ! but every one says not good! please write program which even helps in lower gpu 's to mine Have more than one rig Apologize for the format if incorrect. I run 2 types of cards on each rig. Maybe some charts on the explorer with stats such as daily block rewards, number of transactions, number of unique addresses, similar to Etherscan\n",
      "\n"
     ]
    }
   ],
   "source": [
    "for column in df.columns.values.tolist():\n",
    "    my_list = df[column].unique().tolist()\n",
    "    my_string = ' '.join(str(l) for l in my_list)\n",
    "    print(\"column: {}, values: {}\\n\".format(column, my_string))"
   ]
  },
  {
   "cell_type": "markdown",
   "metadata": {},
   "source": [
    "Let's do set some na's where needed"
   ]
  },
  {
   "cell_type": "code",
   "execution_count": 4,
   "metadata": {},
   "outputs": [],
   "source": [
    "# mining Address\n",
    "df['first_4'] = str(df.mining_address.str[0:3])\n",
    "df.loc[df.mining_address.str[0:4] != '0xa0', 'mining_address'] = 'na'\n",
    "\n"
   ]
  },
  {
   "cell_type": "code",
   "execution_count": null,
   "metadata": {},
   "outputs": [],
   "source": []
  }
 ],
 "metadata": {
  "kernelspec": {
   "display_name": "Python 3",
   "language": "python",
   "name": "python3"
  },
  "language_info": {
   "codemirror_mode": {
    "name": "ipython",
    "version": 3
   },
   "file_extension": ".py",
   "mimetype": "text/x-python",
   "name": "python",
   "nbconvert_exporter": "python",
   "pygments_lexer": "ipython3",
   "version": "3.6.5"
  }
 },
 "nbformat": 4,
 "nbformat_minor": 2
}
